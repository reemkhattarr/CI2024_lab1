{
 "cells": [
  {
   "cell_type": "code",
   "execution_count": 175,
   "metadata": {},
   "outputs": [],
   "source": [
    "import numpy as np\n",
    "from itertools import accumulate\n",
    "from random import random\n",
    "from matplotlib import pyplot as plt\n",
    "from icecream import ic"
   ]
  },
  {
   "cell_type": "markdown",
   "metadata": {},
   "source": [
    "## Reproducible Initialization\n",
    "\n",
    "If you want to get reproducible results, use `rng` (and restart the kernel); for non-reproducible ones, use `np.random`."
   ]
  },
  {
   "cell_type": "code",
   "execution_count": 176,
   "metadata": {},
   "outputs": [],
   "source": [
    "UNIVERSE_SIZE = 100\n",
    "NUM_SETS = 10\n",
    "DENSITY = 0.2\n",
    "\n",
    "rng = np.random.Generator(np.random.PCG64([UNIVERSE_SIZE, NUM_SETS, int(10_000 * DENSITY)]))"
   ]
  },
  {
   "cell_type": "code",
   "execution_count": 177,
   "metadata": {},
   "outputs": [],
   "source": [
    "# DON'T EDIT THESE LINES!\n",
    "SETS = np.random.random((NUM_SETS, UNIVERSE_SIZE)) < DENSITY\n",
    "for s in range(UNIVERSE_SIZE):\n",
    "    if not np.any(SETS[:, s]):\n",
    "        SETS[np.random.randint(NUM_SETS), s] = True\n",
    "COSTS = np.pow(SETS.sum(axis=1), 1.1)"
   ]
  },
  {
   "cell_type": "markdown",
   "metadata": {},
   "source": [
    "## Helper Functions"
   ]
  },
  {
   "cell_type": "code",
   "execution_count": 178,
   "metadata": {},
   "outputs": [],
   "source": [
    "def valid(solution):\n",
    "    \"\"\"Checks wether solution is valid (ie. covers all universe)\"\"\"\n",
    "    return np.all(np.logical_or.reduce(SETS[solution]))\n",
    "\n",
    "\n",
    "def cost(solution):\n",
    "    \"\"\"Returns the cost of a solution (to be minimized)\"\"\"\n",
    "    return COSTS[solution].sum()"
   ]
  },
  {
   "cell_type": "markdown",
   "metadata": {},
   "source": [
    "## Have Fun!"
   ]
  },
  {
   "cell_type": "code",
   "execution_count": 179,
   "metadata": {},
   "outputs": [
    {
     "data": {
      "text/plain": [
       "(np.True_, np.float64(291.09422146471053))"
      ]
     },
     "execution_count": 179,
     "metadata": {},
     "output_type": "execute_result"
    }
   ],
   "source": [
    "# A dumb solution of \"all\" sets\n",
    "solution = np.full(NUM_SETS, True)\n",
    "valid(solution), cost(solution)"
   ]
  },
  {
   "cell_type": "code",
   "execution_count": 180,
   "metadata": {},
   "outputs": [
    {
     "data": {
      "text/plain": [
       "(np.False_, np.float64(140.96096847144236))"
      ]
     },
     "execution_count": 180,
     "metadata": {},
     "output_type": "execute_result"
    }
   ],
   "source": [
    "# A random solution with random 50% of the sets\n",
    "solution = rng.random(NUM_SETS) < .5\n",
    "valid(solution), cost(solution)"
   ]
  },
  {
   "cell_type": "code",
   "execution_count": 181,
   "metadata": {},
   "outputs": [
    {
     "data": {
      "text/plain": [
       "'\\ndef tweak_multiple(solution, probability):\\n    new_solution = solution.copy()\\n    i = None\\n    while i is None or np.random.random() < probability:\\n        i = np.random.randint(0, NUM_SETS)\\n        new_solution[i] = not new_solution[i]\\n    return new_solution\\n\\ndef tweak_based_on_temperature(temperature: float, solution: np.ndarray) -> np.ndarray:\\n    if temperature > 0.7:\\n        # favors exploration, bigger jumps\\n        return tweak_multiple(0.8, solution)\\n    elif temperature > 0.3:\\n        # tradeoff between exploration and exploitation\\n        return tweak_multiple(0.4, solution)\\n    else:\\n        # favors exploitation, smaller jumps\\n        return tweak_single(solution)'"
      ]
     },
     "execution_count": 181,
     "metadata": {},
     "output_type": "execute_result"
    }
   ],
   "source": [
    "# Tweaking functions\n",
    "def tweak_single(solution: np.ndarray) -> np.ndarray:\n",
    "    new_solution = solution.copy()\n",
    "    i = rng.integers(0, NUM_SETS)\n",
    "    new_solution[i] = not new_solution[i]\n",
    "    return new_solution\n",
    "\n",
    "def tweak_multiple(solution: np.ndarray) -> np.ndarray:\n",
    "    mask = rng. random(NUM_SETS) < 0.01\n",
    "    new_solution = np.logical_xor(solution, mask)\n",
    "    return new_solution\n",
    "\n",
    "'''\n",
    "def tweak_multiple(solution, probability):\n",
    "    new_solution = solution.copy()\n",
    "    i = None\n",
    "    while i is None or np.random.random() < probability:\n",
    "        i = np.random.randint(0, NUM_SETS)\n",
    "        new_solution[i] = not new_solution[i]\n",
    "    return new_solution\n",
    "\n",
    "def tweak_based_on_temperature(temperature: float, solution: np.ndarray) -> np.ndarray:\n",
    "    if temperature > 0.7:\n",
    "        # favors exploration, bigger jumps\n",
    "        return tweak_multiple(0.8, solution)\n",
    "    elif temperature > 0.3:\n",
    "        # tradeoff between exploration and exploitation\n",
    "        return tweak_multiple(0.4, solution)\n",
    "    else:\n",
    "        # favors exploitation, smaller jumps\n",
    "        return tweak_single(solution)'''\n"
   ]
  },
  {
   "cell_type": "code",
   "execution_count": 182,
   "metadata": {},
   "outputs": [],
   "source": [
    "def fitness(solution: np.ndarray):\n",
    "    return (valid(solution), -cost(solution))"
   ]
  },
  {
   "cell_type": "code",
   "execution_count": 183,
   "metadata": {},
   "outputs": [],
   "source": [
    "def greedy_initialization():\n",
    "    solution = np.zeros(NUM_SETS, dtype=bool)  \n",
    "    uncovered_elements = set(range(UNIVERSE_SIZE)) \n",
    "    \n",
    "    while uncovered_elements:\n",
    "        best_set = None\n",
    "        best_cover = 0\n",
    "        for i in range(NUM_SETS):\n",
    "            if not solution[i]:\n",
    "                covered = np.sum(SETS[i, list(uncovered_elements)])\n",
    "                if covered > best_cover:\n",
    "                    best_cover = covered\n",
    "                    best_set = i\n",
    "        solution[best_set] = True\n",
    "        uncovered_elements -= set(np.where(SETS[best_set])[0]) \n",
    "        \n",
    "    return solution"
   ]
  },
  {
   "cell_type": "code",
   "execution_count": 184,
   "metadata": {},
   "outputs": [
    {
     "name": "stderr",
     "output_type": "stream",
     "text": [
      "ic| fitness(test_solution): (np.True_, np.float64(-291.09422146471053))\n"
     ]
    },
    {
     "data": {
      "text/plain": [
       "(np.True_, np.float64(-291.09422146471053))"
      ]
     },
     "execution_count": 184,
     "metadata": {},
     "output_type": "execute_result"
    }
   ],
   "source": [
    "test_solution = greedy_initialization()\n",
    "ic(fitness(test_solution))"
   ]
  },
  {
   "cell_type": "code",
   "execution_count": 185,
   "metadata": {},
   "outputs": [
    {
     "name": "stderr",
     "output_type": "stream",
     "text": [
      "ic| fitness(solution): (np.True_, np.float64(-291.09422146471053))\n",
      "ic| fitness(solution): (np.True_, np.float64(-291.09422146471053))\n"
     ]
    },
    {
     "data": {
      "image/png": "[encoded data removed]",
      "text/plain": [
       "<Figure size 1400x800 with 1 Axes>"
      ]
     },
     "metadata": {},
     "output_type": "display_data"
    }
   ],
   "source": [
    "#solution = rng.random(NUM_SETS) < 1\n",
    "solution = greedy_initialization()\n",
    "solution_fitness = fitness(solution)\n",
    "history = [float(solution_fitness[1])]\n",
    "ic(fitness(solution))\n",
    "\n",
    "temperature = 0.8\n",
    "cooling_rate = 0.95\n",
    "\n",
    "for steps in range(100):\n",
    "    \n",
    "    if (temperature > 0.6):\n",
    "        tweak = tweak_multiple\n",
    "    else:\n",
    "        tweak = tweak_single\n",
    "    \n",
    "    new_solution = tweak(solution)    \n",
    "    new_fitness = fitness(new_solution)\n",
    "    history.append(float(new_fitness[1]))\n",
    "    #ic(new_fitness)\n",
    "        \n",
    "    if fitness(new_solution) > fitness(solution):\n",
    "        solution = new_solution\n",
    "        solution_fitness = fitness(solution)\n",
    "            \n",
    "    else:\n",
    "        acceptance_prob = np.exp(-((solution_fitness[1]) - (new_fitness[1])) / temperature)\n",
    "        if np.random.rand() < acceptance_prob:\n",
    "            solution = new_solution\n",
    "            solution_fitness = new_fitness\n",
    "        \n",
    "    temperature *= cooling_rate\n",
    "        \n",
    "ic(fitness(solution))\n",
    "\n",
    "plt.figure(figsize=(14,8))\n",
    "plt.plot(\n",
    "    range(len(history)),\n",
    "    list(accumulate(history, max)),\n",
    "    color=\"red\",\n",
    ")\n",
    "_ = plt.scatter(range(len(history)), history, marker=\".\")"
   ]
  },
  {
   "cell_type": "code",
   "execution_count": 186,
   "metadata": {},
   "outputs": [
    {
     "data": {
      "text/plain": [
       "'solution = rng.random(NUM_SETS) < 0.5\\n#solution = greedy_initialization()\\nsolution_fitness = fitness(solution)\\nhistory = [float(solution_fitness[1])]\\nic(fitness(solution))\\n\\ntemperature = 0.8\\ncooling_rate = 0.95\\n\\nfor steps in range(1000):\\n    new_solution = tweak_based_on_temperature(solution, temperature)\\n    new_fitness = fitness(new_solution)\\n    history.append(float(new_fitness[1]))\\n        \\n    if new_fitness > solution_fitness:\\n        solution = new_solution\\n        solution_fitness = new_fitness\\n            \\n    else:\\n        acceptance_prob = np.exp(-((solution_fitness[1]) - (new_fitness[1])) / temperature)\\n        if np.random.rand() < acceptance_prob:\\n            solution = new_solution\\n            solution_fitness = new_fitness\\n        \\n        temperature *= cooling_rate\\n        \\nic(fitness(solution))\\n\\nplt.figure(figsize=(14,8))\\nplt.plot(\\n    range(len(history)),\\n    list(accumulate(history, max)),\\n    color=\"red\",\\n)\\n_ = plt.scatter(range(len(history)), history, marker=\".\")'"
      ]
     },
     "execution_count": 186,
     "metadata": {},
     "output_type": "execute_result"
    }
   ],
   "source": [
    "'''solution = rng.random(NUM_SETS) < 0.5\n",
    "#solution = greedy_initialization()\n",
    "solution_fitness = fitness(solution)\n",
    "history = [float(solution_fitness[1])]\n",
    "ic(fitness(solution))\n",
    "\n",
    "temperature = 0.8\n",
    "cooling_rate = 0.95\n",
    "\n",
    "for steps in range(1000):\n",
    "    new_solution = tweak_based_on_temperature(solution, temperature)\n",
    "    new_fitness = fitness(new_solution)\n",
    "    history.append(float(new_fitness[1]))\n",
    "        \n",
    "    if new_fitness > solution_fitness:\n",
    "        solution = new_solution\n",
    "        solution_fitness = new_fitness\n",
    "            \n",
    "    else:\n",
    "        acceptance_prob = np.exp(-((solution_fitness[1]) - (new_fitness[1])) / temperature)\n",
    "        if np.random.rand() < acceptance_prob:\n",
    "            solution = new_solution\n",
    "            solution_fitness = new_fitness\n",
    "        \n",
    "        temperature *= cooling_rate\n",
    "        \n",
    "ic(fitness(solution))\n",
    "\n",
    "plt.figure(figsize=(14,8))\n",
    "plt.plot(\n",
    "    range(len(history)),\n",
    "    list(accumulate(history, max)),\n",
    "    color=\"red\",\n",
    ")\n",
    "_ = plt.scatter(range(len(history)), history, marker=\".\")'''"
   ]
  }
 ],
 "metadata": {
  "kernelspec": {
   "display_name": "CIvenv",
   "language": "python",
   "name": "python3"
  },
  "language_info": {
   "codemirror_mode": {
    "name": "ipython",
    "version": 3
   },
   "file_extension": ".py",
   "mimetype": "text/x-python",
   "name": "python",
   "nbconvert_exporter": "python",
   "pygments_lexer": "ipython3",
   "version": "3.9.13"
  }
 },
 "nbformat": 4,
 "nbformat_minor": 2
}
