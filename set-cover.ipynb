{
 "cells": [
  {
   "cell_type": "code",
   "execution_count": 239,
   "metadata": {},
   "outputs": [],
   "source": [
    "import numpy as np\n",
    "from itertools import accumulate\n",
    "from random import random\n",
    "from matplotlib import pyplot as plt\n",
    "from icecream import ic"
   ]
  },
  {
   "cell_type": "markdown",
   "metadata": {},
   "source": [
    "## Reproducible Initialization\n",
    "\n",
    "If you want to get reproducible results, use `rng` (and restart the kernel); for non-reproducible ones, use `np.random`."
   ]
  },
  {
   "cell_type": "code",
   "execution_count": 240,
   "metadata": {},
   "outputs": [],
   "source": [
    "UNIVERSE_SIZE = 100\n",
    "NUM_SETS = 10\n",
    "DENSITY = 0.2\n",
    "\n",
    "rng = np.random.Generator(np.random.PCG64([UNIVERSE_SIZE, NUM_SETS, int(10_000 * DENSITY)]))"
   ]
  },
  {
   "cell_type": "code",
   "execution_count": 241,
   "metadata": {},
   "outputs": [],
   "source": [
    "# DON'T EDIT THESE LINES!\n",
    "SETS = np.random.random((NUM_SETS, UNIVERSE_SIZE)) < DENSITY\n",
    "for s in range(UNIVERSE_SIZE):\n",
    "    if not np.any(SETS[:, s]):\n",
    "        SETS[np.random.randint(NUM_SETS), s] = True\n",
    "COSTS = np.pow(SETS.sum(axis=1), 1.1)"
   ]
  },
  {
   "cell_type": "markdown",
   "metadata": {},
   "source": [
    "## Helper Functions"
   ]
  },
  {
   "cell_type": "code",
   "execution_count": 242,
   "metadata": {},
   "outputs": [],
   "source": [
    "def valid(solution):\n",
    "    \"\"\"Checks wether solution is valid (ie. covers all universe)\"\"\"\n",
    "    return np.all(np.logical_or.reduce(SETS[solution]))\n",
    "\n",
    "\n",
    "def cost(solution):\n",
    "    \"\"\"Returns the cost of a solution (to be minimized)\"\"\"\n",
    "    return COSTS[solution].sum()\n",
    "\n",
    "def fitness(solution):\n",
    "    return (valid(solution), -cost(solution))"
   ]
  },
  {
   "cell_type": "markdown",
   "metadata": {},
   "source": [
    "## Have Fun!"
   ]
  },
  {
   "cell_type": "code",
   "execution_count": 243,
   "metadata": {},
   "outputs": [
    {
     "data": {
      "text/plain": [
       "(np.True_, np.float64(284.22513760416325))"
      ]
     },
     "execution_count": 243,
     "metadata": {},
     "output_type": "execute_result"
    }
   ],
   "source": [
    "# A dumb solution of \"all\" sets\n",
    "solution = np.full(NUM_SETS, True)\n",
    "valid(solution), cost(solution)"
   ]
  },
  {
   "cell_type": "code",
   "execution_count": 244,
   "metadata": {},
   "outputs": [
    {
     "data": {
      "text/plain": [
       "(np.False_, np.float64(163.59636773967847))"
      ]
     },
     "execution_count": 244,
     "metadata": {},
     "output_type": "execute_result"
    }
   ],
   "source": [
    "# A random solution with random 50% of the sets\n",
    "solution = rng.random(NUM_SETS) < .5\n",
    "valid(solution), cost(solution)"
   ]
  },
  {
   "cell_type": "code",
   "execution_count": 245,
   "metadata": {},
   "outputs": [],
   "source": [
    "# Tweaking functions\n",
    "def tweak_single(solution: np.ndarray) -> np.ndarray:\n",
    "    new_solution = solution.copy()\n",
    "    i = rng.integers(0, NUM_SETS)\n",
    "    new_solution[i] = not new_solution[i]\n",
    "    return new_solution\n",
    "\n",
    "def tweak_multiple(solution: np.ndarray) -> np.ndarray:\n",
    "    mask = rng. random(NUM_SETS) < 0.01\n",
    "    new_solution = np.logical_xor(solution, mask)\n",
    "    return new_solution\n",
    "\n",
    "'''\n",
    "def tweak_multiple(solution, probability):\n",
    "    new_solution = solution.copy()\n",
    "    i = None\n",
    "    while i is None or np.random.random() < probability:\n",
    "        i = np.random.randint(0, NUM_SETS)\n",
    "        new_solution[i] = not new_solution[i]\n",
    "    return new_solution'''\n",
    "\n",
    "def tweak_based_on_temperature(temperature: float, solution: np.ndarray) -> np.ndarray:\n",
    "    if temperature > 0.7:\n",
    "        # favors exploration, bigger jumps\n",
    "        return tweak_multiple(solution, 0.8)\n",
    "    elif temperature > 0.3:\n",
    "        # tradeoff between exploration and exploitation\n",
    "        return tweak_multiple(solution, 0.4)\n",
    "    else:\n",
    "        # favors exploitation, smaller jumps\n",
    "        return tweak_single(solution)\n"
   ]
  },
  {
   "cell_type": "code",
   "execution_count": 246,
   "metadata": {},
   "outputs": [],
   "source": [
    "def greedy_initialization():\n",
    "    solution = np.zeros(NUM_SETS, dtype=bool)  \n",
    "    uncovered_elements = set(range(UNIVERSE_SIZE)) \n",
    "    \n",
    "    while uncovered_elements:\n",
    "        best_set = None\n",
    "        best_cover = 0\n",
    "        for i in range(NUM_SETS):\n",
    "            if not solution[i]:\n",
    "                covered = np.sum(SETS[i, list(uncovered_elements)])\n",
    "                if covered > best_cover:\n",
    "                    best_cover = covered\n",
    "                    best_set = i\n",
    "        solution[best_set] = True\n",
    "        uncovered_elements -= set(np.where(SETS[best_set])[0]) \n",
    "        \n",
    "    return solution"
   ]
  },
  {
   "cell_type": "code",
   "execution_count": 247,
   "metadata": {},
   "outputs": [
    {
     "name": "stderr",
     "output_type": "stream",
     "text": [
      "ic| fitness(test_solution): (np.True_, np.float64(-263.1130110317969))\n"
     ]
    },
    {
     "data": {
      "text/plain": [
       "(np.True_, np.float64(-263.1130110317969))"
      ]
     },
     "execution_count": 247,
     "metadata": {},
     "output_type": "execute_result"
    }
   ],
   "source": [
    "test_solution = greedy_initialization()\n",
    "ic(fitness(test_solution))"
   ]
  },
  {
   "cell_type": "code",
   "execution_count": 248,
   "metadata": {},
   "outputs": [
    {
     "name": "stderr",
     "output_type": "stream",
     "text": [
      "ic| fitness(solution): (np.True_, np.float64(-284.22513760416325))\n"
     ]
    },
    {
     "ename": "TypeError",
     "evalue": "tweak_multiple() takes 1 positional argument but 2 were given",
     "output_type": "error",
     "traceback": [
      "\u001b[1;31m---------------------------------------------------------------------------\u001b[0m",
      "\u001b[1;31mTypeError\u001b[0m                                 Traceback (most recent call last)",
      "Cell \u001b[1;32mIn[248], line 11\u001b[0m\n\u001b[0;32m      8\u001b[0m cooling_rate \u001b[38;5;241m=\u001b[39m \u001b[38;5;241m0.95\u001b[39m\n\u001b[0;32m     10\u001b[0m \u001b[38;5;28;01mfor\u001b[39;00m steps \u001b[38;5;129;01min\u001b[39;00m \u001b[38;5;28mrange\u001b[39m(\u001b[38;5;241m1000\u001b[39m):\n\u001b[1;32m---> 11\u001b[0m     new_solution \u001b[38;5;241m=\u001b[39m \u001b[43mtweak_based_on_temperature\u001b[49m\u001b[43m(\u001b[49m\u001b[43msolution\u001b[49m\u001b[43m,\u001b[49m\u001b[43m \u001b[49m\u001b[43mtemperature\u001b[49m\u001b[43m)\u001b[49m\n\u001b[0;32m     12\u001b[0m     new_fitness \u001b[38;5;241m=\u001b[39m fitness(new_solution)\n\u001b[0;32m     13\u001b[0m     history\u001b[38;5;241m.\u001b[39mappend(\u001b[38;5;28mfloat\u001b[39m(new_fitness[\u001b[38;5;241m1\u001b[39m]))\n",
      "Cell \u001b[1;32mIn[245], line 25\u001b[0m, in \u001b[0;36mtweak_based_on_temperature\u001b[1;34m(solution, temperature)\u001b[0m\n\u001b[0;32m     22\u001b[0m \u001b[38;5;28;01mdef\u001b[39;00m \u001b[38;5;21mtweak_based_on_temperature\u001b[39m(solution, temperature):\n\u001b[0;32m     23\u001b[0m     \u001b[38;5;28;01mif\u001b[39;00m temperature \u001b[38;5;241m>\u001b[39m \u001b[38;5;241m0.7\u001b[39m:\n\u001b[0;32m     24\u001b[0m         \u001b[38;5;66;03m# favors exploration, bigger jumps\u001b[39;00m\n\u001b[1;32m---> 25\u001b[0m         \u001b[38;5;28;01mreturn\u001b[39;00m \u001b[43mtweak_multiple\u001b[49m\u001b[43m(\u001b[49m\u001b[43msolution\u001b[49m\u001b[43m,\u001b[49m\u001b[43m \u001b[49m\u001b[38;5;241;43m0.8\u001b[39;49m\u001b[43m)\u001b[49m\n\u001b[0;32m     26\u001b[0m     \u001b[38;5;28;01melif\u001b[39;00m temperature \u001b[38;5;241m>\u001b[39m \u001b[38;5;241m0.3\u001b[39m:\n\u001b[0;32m     27\u001b[0m         \u001b[38;5;66;03m# tradeoff between exploration and exploitation\u001b[39;00m\n\u001b[0;32m     28\u001b[0m         \u001b[38;5;28;01mreturn\u001b[39;00m tweak_multiple(solution, \u001b[38;5;241m0.4\u001b[39m)\n",
      "\u001b[1;31mTypeError\u001b[0m: tweak_multiple() takes 1 positional argument but 2 were given"
     ]
    }
   ],
   "source": [
    "solution = rng.random(NUM_SETS) < 1\n",
    "#solution = greedy_initialization()\n",
    "solution_fitness = fitness(solution)\n",
    "history = [float(solution_fitness[1])]\n",
    "ic(fitness(solution))\n",
    "\n",
    "temperature = 0.8\n",
    "cooling_rate = 0.95\n",
    "\n",
    "for steps in range(1000):\n",
    "    new_solution = tweak_based_on_temperature(solution, temperature)\n",
    "    new_fitness = fitness(new_solution)\n",
    "    history.append(float(new_fitness[1]))\n",
    "    ic(new_fitness)\n",
    "        \n",
    "    if new_fitness > solution_fitness:\n",
    "        solution = new_solution\n",
    "        solution_fitness = new_fitness\n",
    "            \n",
    "    else:\n",
    "        acceptance_prob = np.exp(-((solution_fitness[1]) - (new_fitness[1])) / temperature)\n",
    "        if np.random.rand() < acceptance_prob:\n",
    "            solution = new_solution\n",
    "            solution_fitness = new_fitness\n",
    "                    \n",
    "    temperature *= cooling_rate\n",
    "        \n",
    "ic(fitness(solution))\n",
    "\n",
    "plt.figure(figsize=(14,8))\n",
    "plt.plot(\n",
    "    range(len(history)),\n",
    "    list(accumulate(history, max)),\n",
    "    color=\"red\",\n",
    ")\n",
    "_ = plt.scatter(range(len(history)), history, marker=\".\")"
   ]
  },
  {
   "cell_type": "code",
   "execution_count": 238,
   "metadata": {},
   "outputs": [
    {
     "name": "stderr",
     "output_type": "stream",
     "text": [
      "ic| fitness(solution): ("
     ]
    },
    {
     "name": "stderr",
     "output_type": "stream",
     "text": [
      "np.True_, np.float64(-288.23486174440154))\n",
      "ic| fitness(solution): (np.False_, np.float64(-0.0))\n"
     ]
    },
    {
     "data": {
      "image/png": "[encoded data removed]",
      "text/plain": [
       "<Figure size 1400x800 with 1 Axes>"
      ]
     },
     "metadata": {},
     "output_type": "display_data"
    }
   ],
   "source": [
    "solution = rng.random(NUM_SETS) < 1\n",
    "#solution = greedy_initialization()\n",
    "solution_fitness = fitness(solution)\n",
    "history = [float(solution_fitness[1])]\n",
    "ic(fitness(solution))\n",
    "\n",
    "temperature = 0.8\n",
    "cooling_rate = 0.95\n",
    "\n",
    "for steps in range(1000):\n",
    "    new_solution = tweak_based_on_temperature(solution, temperature)\n",
    "    new_fitness = fitness(new_solution)\n",
    "    history.append(float(new_fitness[1]))\n",
    "        \n",
    "    if new_fitness > solution_fitness:\n",
    "        solution = new_solution\n",
    "        solution_fitness = new_fitness\n",
    "            \n",
    "    else:\n",
    "        acceptance_prob = np.exp(-((solution_fitness[1]) - (new_fitness[1])) / temperature)\n",
    "        if np.random.rand() < acceptance_prob:\n",
    "            solution = new_solution\n",
    "            solution_fitness = new_fitness\n",
    "        \n",
    "        temperature *= cooling_rate\n",
    "        \n",
    "ic(fitness(solution))\n",
    "\n",
    "plt.figure(figsize=(14,8))\n",
    "plt.plot(\n",
    "    range(len(history)),\n",
    "    list(accumulate(history, max)),\n",
    "    color=\"red\",\n",
    ")\n",
    "_ = plt.scatter(range(len(history)), history, marker=\".\")"
   ]
  }
 ],
 "metadata": {
  "kernelspec": {
   "display_name": "CIvenv",
   "language": "python",
   "name": "python3"
  },
  "language_info": {
   "codemirror_mode": {
    "name": "ipython",
    "version": 3
   },
   "file_extension": ".py",
   "mimetype": "text/x-python",
   "name": "python",
   "nbconvert_exporter": "python",
   "pygments_lexer": "ipython3",
   "version": "3.9.13"
  }
 },
 "nbformat": 4,
 "nbformat_minor": 2
}
